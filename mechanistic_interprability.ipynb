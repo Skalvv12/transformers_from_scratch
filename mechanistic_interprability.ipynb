{
 "cells": [
  {
   "cell_type": "markdown",
   "metadata": {},
   "source": [
    "#### Links\n",
    " - [List of concrete problems](https://docs.google.com/document/d/1WONBzNqfKIxERejrrPlQMyKqg7jSFW92x5UMXNrMdPo/edit)\n",
    " - [Recording of the Neel Nanda doing research](https://www.youtube.com/watch?v=yo4QvDn-vsU)\n",
    " - [Link to ARENA dir]"
   ]
  },
  {
   "cell_type": "code",
   "execution_count": null,
   "metadata": {},
   "outputs": [],
   "source": []
  }
 ],
 "metadata": {
  "language_info": {
   "name": "python"
  },
  "orig_nbformat": 4
 },
 "nbformat": 4,
 "nbformat_minor": 2
}
