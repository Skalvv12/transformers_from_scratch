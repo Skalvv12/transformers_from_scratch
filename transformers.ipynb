{
 "cells": [
  {
   "cell_type": "markdown",
   "metadata": {},
   "source": [
    "### Main goals:\n",
    "1. Learn how to use transfomers library\n",
    "2. Start using different models\n",
    "3. First steps like tokenization, work with dataset\n",
    "4. Finetuning, understanding them\n",
    "5. Benchmarking them\n",
    "6. Optimizing them"
   ]
  },
  {
   "cell_type": "code",
   "execution_count": null,
   "metadata": {},
   "outputs": [],
   "source": []
  }
 ],
 "metadata": {
  "language_info": {
   "name": "python"
  },
  "orig_nbformat": 4
 },
 "nbformat": 4,
 "nbformat_minor": 2
}
