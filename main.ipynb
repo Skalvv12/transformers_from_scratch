{
 "cells": [
  {
   "cell_type": "markdown",
   "metadata": {},
   "source": [
    "### Design principles:\n",
    " 1. Parts should be designed with composability in mind\n",
    "### Blocks:\n",
    " 1. [From sratch transformers](from_scratch_part.ipynb)\n",
    " 2. [Start to work with transformers library](transformers.ipynb)\n",
    " 3. [Use mechanistic interprability tools for testing and understaing]\n",
    " 3. [Benchmarking]"
   ]
  },
  {
   "cell_type": "code",
   "execution_count": null,
   "metadata": {},
   "outputs": [],
   "source": []
  }
 ],
 "metadata": {
  "language_info": {
   "name": "python"
  },
  "orig_nbformat": 4
 },
 "nbformat": 4,
 "nbformat_minor": 2
}
