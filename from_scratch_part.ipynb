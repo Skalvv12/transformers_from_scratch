{
 "cells": [
  {
   "cell_type": "markdown",
   "metadata": {},
   "source": [
    "# Main goals of this repo:\n",
    " 1. Revise the transformers architecture\n",
    " 2. Build them from scratch\n",
    " 3. Use tools like, lightning and tests for efficient training\n",
    " 4. Improve understanding with mechanistic interprability\n",
    " 5. Improve understanding with all kinds of vizualisations\n",
    " 6. Learn to benchmark\n",
    " 7. Backprop ninja\n",
    " 8. Transformers lenz\n",
    " 9. Circuits viz\n",
    " \n"
   ]
  },
  {
   "cell_type": "markdown",
   "metadata": {},
   "source": [
    "# Construction plan:\n",
    "#### Main blocks:\n",
    "0. Data\n",
    "1. Tokenizer\n",
    "2. Embeddings + Positional\n",
    "3. Attention Part\n",
    "4. Norms\n",
    "5. MLP\n",
    "6. Residual stream\n",
    "7. Decode embeddings (head)\n",
    "\n",
    "#### Higways\n",
    "1. Compute\n",
    "2. Architecture\n",
    "\n",
    "#### Recources\n",
    "1. Data \n",
    "\n",
    "#### Information\n",
    "1. Caching \n",
    "3. Weights and biases\n",
    "4. Different viz form tutorials\n",
    "5. Transformer lens\n",
    "6. Circuits viz\n",
    "\n",
    "#### Sensors\n",
    "1. Hooks\n",
    "\n",
    "#### Management\n",
    "1. Notebooks\n",
    "2. WnB\n",
    "\n",
    "\n"
   ]
  },
  {
   "cell_type": "markdown",
   "metadata": {},
   "source": [
    "### Recources to learn:\n",
    "- [ARENA](https://arena-ch1-transformers.streamlit.app/[1.1]_Transformer_from_Scratch)\n",
    "- "
   ]
  },
  {
   "cell_type": "markdown",
   "metadata": {},
   "source": [
    "&#9745;\n",
    "&#9744;"
   ]
  },
  {
   "cell_type": "markdown",
   "metadata": {},
   "source": [
    "### Doing backprop ninja"
   ]
  },
  {
   "cell_type": "code",
   "execution_count": null,
   "metadata": {
    "vscode": {
     "languageId": "plaintext"
    }
   },
   "outputs": [],
   "source": []
  }
 ],
 "metadata": {
  "language_info": {
   "name": "python"
  },
  "orig_nbformat": 4
 },
 "nbformat": 4,
 "nbformat_minor": 2
}
